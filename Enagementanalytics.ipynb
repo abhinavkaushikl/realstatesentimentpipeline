{
 "cells": [
  {
   "cell_type": "code",
   "execution_count": 14,
   "id": "3f0dcf5a",
   "metadata": {},
   "outputs": [
    {
     "name": "stdout",
     "output_type": "stream",
     "text": [
      "Raw conversation:\n",
      "Buyer: Hi, I'm interested in the apartment you listed.\n",
      "Seller: Of course, do you have a budget in mind?\n",
      "Buyer: Does it have parking?\n",
      "Seller: Yes, it comes with one covered parking.\n",
      "Buyer: What’s the price range?\n",
      "Seller: It’s a 10-minute walk to the metro station.\n",
      "Buyer: That sounds interesting, I’ll discuss with my family.\n",
      "--------------------------------------------------\n"
     ]
    }
   ],
   "source": [
    "import os \n",
    "base_path = r\"c:\\Users\\kau75421\\AI startup\\Datacollection\\split_conversations\"\n",
    "file_name = \"conversation_2031.txt\"\n",
    "file_path = os.path.join(base_path, file_name)\n",
    "\n",
    "# Read the file\n",
    "with open(file_path, 'r', encoding='utf-8') as f:\n",
    "    conversation = f.read()\n",
    "\n",
    "\n",
    "\n",
    "# Display the raw conversation\n",
    "print(\"Raw conversation:\")\n",
    "print(conversation)\n",
    "print(\"-\" * 50)"
   ]
  },
  {
   "cell_type": "code",
   "execution_count": 15,
   "id": "c35115c0",
   "metadata": {},
   "outputs": [
    {
     "name": "stdout",
     "output_type": "stream",
     "text": [
      "Conversation Engagement Analytics:\n",
      "------------------------------\n",
      "Total Messages: 7\n",
      "Buyer Messages: 4\n",
      "Seller Messages: 3\n",
      "Seller Response Rate: 75.00%\n",
      "Direct Seller Responses: 3\n",
      "Average Message Length: 45.4 characters\n",
      "Questions Asked: 3\n"
     ]
    }
   ],
   "source": [
    "# Split conversation into messages\n",
    "messages = conversation.strip().split('\\n')\n",
    "\n",
    "# Calculate engagement metrics\n",
    "engagement_metrics = {\n",
    "    'total_messages': len(messages),\n",
    "    'buyer_messages': len([msg for msg in messages if msg.startswith('Buyer:')]),\n",
    "    'seller_messages': len([msg for msg in messages if msg.startswith('Seller:')]),\n",
    "    'response_rate': 0,\n",
    "    'avg_message_length': sum(len(msg) for msg in messages) / len(messages),\n",
    "    'questions_asked': len([msg for msg in messages if '?' in msg]),\n",
    "}\n",
    "\n",
    "# Calculate seller's response rate to buyer messages\n",
    "buyer_messages_count = engagement_metrics['buyer_messages']\n",
    "seller_responses = 0\n",
    "previous_was_buyer = False\n",
    "\n",
    "for message in messages:\n",
    "    if message.startswith('Buyer:'):\n",
    "        previous_was_buyer = True\n",
    "    elif message.startswith('Seller:') and previous_was_buyer:\n",
    "        seller_responses += 1\n",
    "        previous_was_buyer = False\n",
    "    else:\n",
    "        previous_was_buyer = False\n",
    "\n",
    "# Calculate response rate (seller responses / buyer messages that could have received responses)\n",
    "if buyer_messages_count > 0:\n",
    "    engagement_metrics['response_rate'] = seller_responses / buyer_messages_count\n",
    "\n",
    "# Print analytics\n",
    "print(\"Conversation Engagement Analytics:\")\n",
    "print(\"-\" * 30)\n",
    "print(f\"Total Messages: {engagement_metrics['total_messages']}\")\n",
    "print(f\"Buyer Messages: {engagement_metrics['buyer_messages']}\")\n",
    "print(f\"Seller Messages: {engagement_metrics['seller_messages']}\")\n",
    "print(f\"Seller Response Rate: {engagement_metrics['response_rate']:.2%}\")\n",
    "print(f\"Direct Seller Responses: {seller_responses}\")\n",
    "print(f\"Average Message Length: {engagement_metrics['avg_message_length']:.1f} characters\")\n",
    "print(f\"Questions Asked: {engagement_metrics['questions_asked']}\")"
   ]
  },
  {
   "cell_type": "code",
   "execution_count": 16,
   "id": "62ae6732",
   "metadata": {},
   "outputs": [
    {
     "name": "stdout",
     "output_type": "stream",
     "text": [
      "Message Word Count Analytics:\n",
      "------------------------------\n",
      "Buyer Average Words per Message: 6.0 words\n",
      "Seller Average Words per Message: 8.0 words\n",
      "Overall Average Words per Message: 6.9 words\n",
      "\n",
      "Detailed Word Counts:\n",
      "------------------------------\n",
      "\n",
      "Buyer Messages:\n",
      "Words: 8 - Message: Hi, I'm interested in the apartment you listed.\n",
      "Words: 4 - Message: Does it have parking?\n",
      "Words: 4 - Message: What’s the price range?\n",
      "Words: 8 - Message: That sounds interesting, I’ll discuss with my family.\n",
      "\n",
      "Seller Messages:\n",
      "Words: 9 - Message: Of course, do you have a budget in mind?\n",
      "Words: 7 - Message: Yes, it comes with one covered parking.\n",
      "Words: 8 - Message: It’s a 10-minute walk to the metro station.\n"
     ]
    }
   ],
   "source": [
    "# Split conversation into messages\n",
    "messages = conversation.strip().split('\\n')\n",
    "\n",
    "# Separate buyer and seller messages\n",
    "buyer_messages = [msg.replace('Buyer: ', '') for msg in messages if msg.startswith('Buyer:')]\n",
    "seller_messages = [msg.replace('Seller: ', '') for msg in messages if msg.startswith('Seller:')]\n",
    "\n",
    "# Calculate word lengths\n",
    "message_word_metrics = {\n",
    "    'buyer_avg_words': sum(len(msg.split()) for msg in buyer_messages) / len(buyer_messages) if buyer_messages else 0,\n",
    "    'seller_avg_words': sum(len(msg.split()) for msg in seller_messages) / len(seller_messages) if seller_messages else 0,\n",
    "    'overall_avg_words': sum(len(msg.split(': ')[1].split()) for msg in messages) / len(messages)\n",
    "}\n",
    "\n",
    "# Print analytics\n",
    "print(\"Message Word Count Analytics:\")\n",
    "print(\"-\" * 30)\n",
    "print(f\"Buyer Average Words per Message: {message_word_metrics['buyer_avg_words']:.1f} words\")\n",
    "print(f\"Seller Average Words per Message: {message_word_metrics['seller_avg_words']:.1f} words\")\n",
    "print(f\"Overall Average Words per Message: {message_word_metrics['overall_avg_words']:.1f} words\")\n",
    "\n",
    "# Detailed word counts\n",
    "print(\"\\nDetailed Word Counts:\")\n",
    "print(\"-\" * 30)\n",
    "print(\"\\nBuyer Messages:\")\n",
    "for msg in buyer_messages:\n",
    "    words = msg.split()\n",
    "    print(f\"Words: {len(words)} - Message: {msg}\")\n",
    "\n",
    "print(\"\\nSeller Messages:\")\n",
    "for msg in seller_messages:\n",
    "    words = msg.split()\n",
    "    print(f\"Words: {len(words)} - Message: {msg}\")"
   ]
  },
  {
   "cell_type": "code",
   "execution_count": 17,
   "id": "b4a00a3d",
   "metadata": {},
   "outputs": [],
   "source": [
    "# DATA preprocesing\n",
    "# Lower casing \n",
    "# removing stopwords \n",
    "# lemmatization\n",
    "# tokenization\n",
    "# removing special characters and punctuation\n",
    "# seprate buyer and seller messages into different lists\n",
    "# save the preprocessed data into a csv file with columns 'role' and 'message'"
   ]
  },
  {
   "cell_type": "code",
   "execution_count": 18,
   "id": "1ea230b7",
   "metadata": {},
   "outputs": [
    {
     "name": "stdout",
     "output_type": "stream",
     "text": [
      "Buyer: Hi, I'm interested in the apartment you listed.\n",
      "Seller: Of course, do you have a budget in mind?\n",
      "Buyer: Does it have parking?\n",
      "Seller: Yes, it comes with one covered parking.\n",
      "Buyer: What’s the price range?\n",
      "Seller: It’s a 10-minute walk to the metro station.\n",
      "Buyer: That sounds interesting, I’ll discuss with my family.\n"
     ]
    }
   ],
   "source": [
    "print(conversation)"
   ]
  },
  {
   "cell_type": "code",
   "execution_count": null,
   "id": "84b0328a",
   "metadata": {},
   "outputs": [
    {
     "name": "stdout",
     "output_type": "stream",
     "text": [
      "['', 'Buyer:', \" Hi, I'm interested in the apartment you listed.\\n\", 'Seller:', ' Of course, do you have a budget in mind?\\n', 'Buyer:', ' Does it have parking?\\n', 'Seller:', ' Yes, it comes with one covered parking.\\n', 'Buyer:', ' What’s the price range?\\n', 'Seller:', ' It’s a 10-minute walk to the metro station.\\n', 'Buyer:', ' That sounds interesting, I’ll discuss with my family.']\n",
      "Buyer tokens: ['apartment', 'parking', 'sounds', 'price', 'family', 'range', 'discuss', 'hi', 'listed', 'll', 'does', 'interesting', 'interested']\n",
      "Seller tokens: ['parking', 'metro', 'walk', 'mind', 'course', 'comes', 'yes', 'station', '10', 'minute', 'covered', 'budget']\n"
     ]
    }
   ],
   "source": [
    "from sklearn.feature_extraction.text import ENGLISH_STOP_WORDS\n",
    "import re\n",
    "\n",
    "# Stopwords\n",
    "stop_words = set(ENGLISH_STOP_WORDS)\n",
    "\n",
    "def separate_buyer_seller_from_string(conversation: str, deduplicate: bool = False):\n",
    "    \"\"\"\n",
    "    Process conversation string into Buyer and Seller tokens (stopwords removed).\n",
    "    \n",
    "    Args:\n",
    "        conversation: str with lines like 'Buyer: ... Seller: ...'\n",
    "        deduplicate: if True, removes duplicate words\n",
    "    \n",
    "    Returns:\n",
    "        buyer_tokens, seller_tokens\n",
    "    \"\"\"\n",
    "    \n",
    "    def clean_text(text: str):\n",
    "        tokens = re.findall(r\"\\b\\w+\\b\", text.lower())\n",
    "        return [w for w in tokens if w not in stop_words and len(w) > 1]\n",
    "    \n",
    "    buyer_list, seller_list = [], []\n",
    "    \n",
    "    # Split conversation by role markers\n",
    "    parts = re.split(r\"(Buyer:|Seller:)\", conversation)\n",
    "    print(parts)\n",
    "    \n",
    "    # parts will look like [\"\", \"Buyer:\", \"Hi I'm ...\", \"Seller:\", \"Of course...\", ...]\n",
    "    for i in range(1, len(parts), 2):\n",
    "        role = parts[i].replace(\":\", \"\").strip().lower()\n",
    "        text = parts[i+1].strip()\n",
    "        cleaned = clean_text(text)\n",
    "        \n",
    "        if role == \"buyer\":\n",
    "            buyer_list.extend(cleaned)\n",
    "        elif role == \"seller\":\n",
    "            seller_list.extend(cleaned)\n",
    "    \n",
    "    if deduplicate:\n",
    "        buyer_list = list(set(buyer_list))\n",
    "        seller_list = list(set(seller_list))\n",
    "    \n",
    "    return buyer_list, seller_list\n",
    "\n",
    "\n",
    "# ---------------- Example Usage ----------------\n",
    "buyer_tokens, seller_tokens = separate_buyer_seller_from_string(conversation, deduplicate=True)\n",
    "\n",
    "print(\"Buyer tokens:\", buyer_tokens)\n",
    "print(\"Seller tokens:\", seller_tokens)\n"
   ]
  },
  {
   "cell_type": "code",
   "execution_count": null,
   "id": "a6c52f5d",
   "metadata": {},
   "outputs": [],
   "source": []
  }
 ],
 "metadata": {
  "kernelspec": {
   "display_name": "Python 3",
   "language": "python",
   "name": "python3"
  },
  "language_info": {
   "codemirror_mode": {
    "name": "ipython",
    "version": 3
   },
   "file_extension": ".py",
   "mimetype": "text/x-python",
   "name": "python",
   "nbconvert_exporter": "python",
   "pygments_lexer": "ipython3",
   "version": "3.11.9"
  }
 },
 "nbformat": 4,
 "nbformat_minor": 5
}
